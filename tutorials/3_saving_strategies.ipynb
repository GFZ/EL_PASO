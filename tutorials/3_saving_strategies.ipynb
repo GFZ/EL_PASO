{
 "cells": [
  {
   "cell_type": "markdown",
   "id": "5d3663eb",
   "metadata": {},
   "source": [
    "# Tutorial: Saving strategies\n",
    "\n",
    "This tutorial will teach you how to save your processed variables using different *SavingStrategies*.\n",
    "\n",
    "We will use the loaded variables from the cdf file to showcase how to save them with different formats. We will add additional variables so that we have more to save."
   ]
  },
  {
   "cell_type": "code",
   "execution_count": 1,
   "id": "929bab50",
   "metadata": {},
   "outputs": [
    {
     "name": "stdout",
     "output_type": "stream",
     "text": [
      "File already exists, skipping download: rbspa_rel04_ect-hope-pa-l3_20170730_v7.3.0.cdf\n",
      "File already exists, skipping download: rbspa_rel04_ect-hope-pa-l3_20170731_v7.4.0.cdf\n",
      "File already exists, skipping download: rbspa_rel04_ect-hope-pa-l3_20170801_v7.3.0.cdf\n",
      "Extracting variables ...\n",
      "Concatenating data for Epoch_Ele ...\n",
      "Concatenating data for FEDU ...\n",
      "Concatenating data for Position_Ele ...\n",
      "Concatenating data for Epoch_Ele ...\n",
      "Concatenating data for FEDU ...\n",
      "Concatenating data for Position_Ele ...\n",
      "\t\tFinished in 0.812 seconds\n"
     ]
    },
    {
     "data": {
      "text/plain": [
       "{'Epoch': Variable holding (12474,) data points with metadata: VariableMetadata(unit=Unit(\"tt2000\"), original_cadence_seconds=0, source_files=['rbspa_rel04_ect-hope-pa-l3_20170730_v7.3.0.cdf', 'rbspa_rel04_ect-hope-pa-l3_20170731_v7.4.0.cdf', 'rbspa_rel04_ect-hope-pa-l3_20170801_v7.3.0.cdf'], description='', processing_notes='', standard_name=''),\n",
       " 'FEDU': Variable holding (12474, 11, 72) data points with metadata: VariableMetadata(unit=Unit(\"1 / (keV s sr cm2)\"), original_cadence_seconds=0, source_files=['rbspa_rel04_ect-hope-pa-l3_20170730_v7.3.0.cdf', 'rbspa_rel04_ect-hope-pa-l3_20170731_v7.4.0.cdf', 'rbspa_rel04_ect-hope-pa-l3_20170801_v7.3.0.cdf'], description='', processing_notes='', standard_name=''),\n",
       " 'xGEO': Variable holding (12474, 3) data points with metadata: VariableMetadata(unit=Unit(\"km\"), original_cadence_seconds=0, source_files=['rbspa_rel04_ect-hope-pa-l3_20170730_v7.3.0.cdf', 'rbspa_rel04_ect-hope-pa-l3_20170731_v7.4.0.cdf', 'rbspa_rel04_ect-hope-pa-l3_20170801_v7.3.0.cdf'], description='', processing_notes='', standard_name='')}"
      ]
     },
     "execution_count": 1,
     "metadata": {},
     "output_type": "execute_result"
    }
   ],
   "source": [
    "from datetime import datetime, timezone\n",
    "\n",
    "from astropy import units as u\n",
    "\n",
    "import el_paso as ep\n",
    "\n",
    "extraction_infos = [\n",
    "    ep.ExtractionInfo(\n",
    "        result_key=\"Epoch\",\n",
    "        name_or_column=\"Epoch_Ele\",\n",
    "        unit=u.tt2000,\n",
    "    ),\n",
    "    ep.ExtractionInfo(\n",
    "        result_key=\"FEDU\",\n",
    "        name_or_column=\"FEDU\",\n",
    "        unit=(u.cm**2 * u.s * u.sr * u.keV) ** (-1),\n",
    "    ),\n",
    "    ep.ExtractionInfo(\n",
    "        result_key=\"xGEO\",\n",
    "        name_or_column=\"Position_Ele\",\n",
    "        unit=u.km,\n",
    "    ),\n",
    "]\n",
    "\n",
    "start_time = datetime(2017, 7, 30, tzinfo=timezone.utc)\n",
    "end_time = datetime(2017, 8, 1, 23, 59,59, tzinfo=timezone.utc)\n",
    "\n",
    "file_name_stem = \"rbspa_rel04_ect-hope-pa-l3_YYYYMMDD_.{6}.cdf\"\n",
    "\n",
    "ep.download(start_time, end_time,\n",
    "             save_path=\".\",\n",
    "             download_url=\"https://spdf.gsfc.nasa.gov/pub/data/rbsp/rbspa/l3/ect/hope/pitchangle/rel04/YYYY/\",\n",
    "             file_name_stem=file_name_stem,\n",
    "             file_cadence=\"daily\",\n",
    "             method=\"request\",\n",
    "             skip_existing=True)\n",
    "\n",
    "variables = ep.extract_variables_from_files(start_time, end_time, \"daily\",\n",
    "                                             data_path=\".\", file_name_stem=file_name_stem,\n",
    "                                             extraction_infos=extraction_infos)\n",
    "variables"
   ]
  },
  {
   "cell_type": "markdown",
   "id": "e88168f0",
   "metadata": {},
   "source": [
    "## Single file strategy\n",
    "\n",
    "First, we want to save the variables using the *SingleFileStrategy*. This is the simplest way to save variables, as everything is simple put into one file. Dependent on the file ending, different formats will be saved. The units of the variables are not changed in this case."
   ]
  },
  {
   "cell_type": "code",
   "execution_count": 2,
   "id": "0bb2c248",
   "metadata": {},
   "outputs": [
    {
     "name": "stdout",
     "output_type": "stream",
     "text": [
      "Saving file rbsp_hope_example.pickle...\n",
      "\t\tFinished in 1.773 seconds\n"
     ]
    }
   ],
   "source": [
    "saving_strategy = ep.saving_strategies.SingleFileStrategy(\"rbsp_hope_example.pickle\")\n",
    "ep.save(variables, saving_strategy=saving_strategy, start_time=start_time, end_time=end_time, time_var=variables[\"Epoch\"])"
   ]
  },
  {
   "cell_type": "markdown",
   "id": "0b9e196b",
   "metadata": {},
   "source": [
    "Let's inspect what got saved. The variables are turned into simple numpy arrays before saving. You can see that also a *metadata* variable has been saved. We will look closer at metadata in a different tutorial."
   ]
  },
  {
   "cell_type": "code",
   "execution_count": 3,
   "id": "7bf29a28",
   "metadata": {},
   "outputs": [
    {
     "name": "stdout",
     "output_type": "stream",
     "text": [
      "Keys:  dict_keys(['Epoch', 'FEDU', 'xGEO', 'metadata'])\n",
      "Metadata:  {'Epoch': {'unit': 'tt2000', 'original_cadence_seconds': 0, 'source_files': [], 'description': '', 'processing_notes': ''}, 'FEDU': {'unit': '1 / (keV s sr cm2)', 'original_cadence_seconds': 0, 'source_files': [], 'description': '', 'processing_notes': ''}, 'xGEO': {'unit': 'km', 'original_cadence_seconds': 0, 'source_files': [], 'description': '', 'processing_notes': ''}}\n",
      "xGEO[0,:]:  [-20312.193   -27551.27      1005.89374] km\n"
     ]
    }
   ],
   "source": [
    "import pickle\n",
    "\n",
    "with open(\"rbsp_hope_example.pickle\", \"rb\") as f:\n",
    "    loaded_data = pickle.load(f)\n",
    "    print(\"Keys: \", loaded_data.keys())\n",
    "    print(\"Metadata: \", loaded_data[\"metadata\"])\n",
    "    print(\"xGEO[0,:]: \", loaded_data[\"xGEO\"][0,:] * u.Unit(loaded_data[\"metadata\"][\"xGEO\"][\"unit\"]))\n"
   ]
  },
  {
   "cell_type": "markdown",
   "id": "5adb3513",
   "metadata": {},
   "source": [
    "## Data-org strategy\n",
    "\n",
    "All data at GFZ is stored under a standard, which we call DataOrg (Data Organization). The standard inlcudes monthly files, where variables are split into separate files to reduce loading times. All files are saved as .mat files. By using the *DataOrgStrategy*, the variables are automatically sorted into the corresponding files, based on the key of the variable_dict. Additionally, the variables are converted into the units as described in the standard.\n",
    "\n",
    "For using it, we have to store the variables in a dictionary with certain keys, as specified by the standard. "
   ]
  },
  {
   "cell_type": "code",
   "execution_count": 4,
   "id": "fb2b1708",
   "metadata": {},
   "outputs": [
    {
     "name": "stdout",
     "output_type": "stream",
     "text": [
      "Saving file rbspa_hope_20170701to20170731_flux_ver4.mat...\n"
     ]
    },
    {
     "name": "stderr",
     "output_type": "stream",
     "text": [
      "/home/bhaas/Repos/EL-PASO/venv/lib/python3.11/site-packages/el_paso/save.py:35: UserWarning: Could not find target variable alpha_local!\n",
      "  target_variables = saving_strategy.get_target_variables(output_file, variables_dict, time_var, interval_start, interval_end)\n",
      "/home/bhaas/Repos/EL-PASO/venv/lib/python3.11/site-packages/el_paso/utils.py:99: UserWarning: Saving attempted, but product is missing some required variables for output alpha_and_energy!\n",
      "  result = f(*args, **kw)\n",
      "/home/bhaas/Repos/EL-PASO/venv/lib/python3.11/site-packages/el_paso/save.py:35: UserWarning: Could not find target variable MLT!\n",
      "  target_variables = saving_strategy.get_target_variables(output_file, variables_dict, time_var, interval_start, interval_end)\n",
      "/home/bhaas/Repos/EL-PASO/venv/lib/python3.11/site-packages/el_paso/utils.py:99: UserWarning: Saving attempted, but product is missing some required variables for output mlt!\n",
      "  result = f(*args, **kw)\n",
      "/home/bhaas/Repos/EL-PASO/venv/lib/python3.11/site-packages/el_paso/save.py:35: UserWarning: Could not find target variable Lstar!\n",
      "  target_variables = saving_strategy.get_target_variables(output_file, variables_dict, time_var, interval_start, interval_end)\n",
      "/home/bhaas/Repos/EL-PASO/venv/lib/python3.11/site-packages/el_paso/utils.py:99: UserWarning: Saving attempted, but product is missing some required variables for output lstar!\n",
      "  result = f(*args, **kw)\n",
      "/home/bhaas/Repos/EL-PASO/venv/lib/python3.11/site-packages/el_paso/save.py:35: UserWarning: Could not find target variable Lm!\n",
      "  target_variables = saving_strategy.get_target_variables(output_file, variables_dict, time_var, interval_start, interval_end)\n",
      "/home/bhaas/Repos/EL-PASO/venv/lib/python3.11/site-packages/el_paso/utils.py:99: UserWarning: Saving attempted, but product is missing some required variables for output lm!\n",
      "  result = f(*args, **kw)\n",
      "/home/bhaas/Repos/EL-PASO/venv/lib/python3.11/site-packages/el_paso/save.py:35: UserWarning: Could not find target variable PSD!\n",
      "  target_variables = saving_strategy.get_target_variables(output_file, variables_dict, time_var, interval_start, interval_end)\n",
      "/home/bhaas/Repos/EL-PASO/venv/lib/python3.11/site-packages/el_paso/utils.py:99: UserWarning: Saving attempted, but product is missing some required variables for output psd!\n",
      "  result = f(*args, **kw)\n"
     ]
    },
    {
     "name": "stdout",
     "output_type": "stream",
     "text": [
      "Saving file rbspa_hope_20170701to20170731_xGEO_ver4.mat...\n"
     ]
    },
    {
     "name": "stderr",
     "output_type": "stream",
     "text": [
      "/home/bhaas/Repos/EL-PASO/venv/lib/python3.11/site-packages/el_paso/save.py:35: UserWarning: Could not find target variable InvMu!\n",
      "  target_variables = saving_strategy.get_target_variables(output_file, variables_dict, time_var, interval_start, interval_end)\n",
      "/home/bhaas/Repos/EL-PASO/venv/lib/python3.11/site-packages/el_paso/utils.py:99: UserWarning: Saving attempted, but product is missing some required variables for output invmu_and_invk!\n",
      "  result = f(*args, **kw)\n",
      "/home/bhaas/Repos/EL-PASO/venv/lib/python3.11/site-packages/el_paso/save.py:35: UserWarning: Could not find target variable B_eq!\n",
      "  target_variables = saving_strategy.get_target_variables(output_file, variables_dict, time_var, interval_start, interval_end)\n",
      "/home/bhaas/Repos/EL-PASO/venv/lib/python3.11/site-packages/el_paso/utils.py:99: UserWarning: Saving attempted, but product is missing some required variables for output bfield!\n",
      "  result = f(*args, **kw)\n",
      "/home/bhaas/Repos/EL-PASO/venv/lib/python3.11/site-packages/el_paso/save.py:35: UserWarning: Could not find target variable R0!\n",
      "  target_variables = saving_strategy.get_target_variables(output_file, variables_dict, time_var, interval_start, interval_end)\n",
      "/home/bhaas/Repos/EL-PASO/venv/lib/python3.11/site-packages/el_paso/utils.py:99: UserWarning: Saving attempted, but product is missing some required variables for output R0!\n",
      "  result = f(*args, **kw)\n",
      "/home/bhaas/Repos/EL-PASO/venv/lib/python3.11/site-packages/el_paso/save.py:35: UserWarning: Could not find target variable density!\n",
      "  target_variables = saving_strategy.get_target_variables(output_file, variables_dict, time_var, interval_start, interval_end)\n",
      "/home/bhaas/Repos/EL-PASO/venv/lib/python3.11/site-packages/el_paso/utils.py:99: UserWarning: Saving attempted, but product is missing some required variables for output density!\n",
      "  result = f(*args, **kw)\n"
     ]
    },
    {
     "name": "stdout",
     "output_type": "stream",
     "text": [
      "Saving file rbspa_hope_20170801to20170831_flux_ver4.mat...\n",
      "Saving file rbspa_hope_20170801to20170831_xGEO_ver4.mat...\n",
      "\t\tFinished in 16.411 seconds\n"
     ]
    }
   ],
   "source": [
    "variables_to_save = {\n",
    "    \"time\": variables[\"Epoch\"],\n",
    "    \"Flux\": variables[\"FEDU\"],\n",
    "    \"xGEO\": variables[\"xGEO\"],\n",
    "}\n",
    "\n",
    "saving_strategy = ep.saving_strategies.DataOrgStrategy(\".\", mission=\"RBSP\", satellite=\"rbspa\", instrument=\"hope\", kext=\"T89\")\n",
    "ep.save(variables_to_save, saving_strategy, start_time, end_time, time_var=variables[\"Epoch\"])\n"
   ]
  },
  {
   "cell_type": "markdown",
   "id": "da869bc2",
   "metadata": {},
   "source": [
    "Let's inspect again, what has been saved. First of all, we got many warnings, because we did not provide all the variables which should be saved by the standard. Nevertheless, flux-files and xGEO-files got saved. Note how the metadata struct is again saved and that the units of xGEO got automatically transformed from km to R_E. "
   ]
  },
  {
   "cell_type": "code",
   "execution_count": 5,
   "id": "697bfeaa",
   "metadata": {},
   "outputs": [
    {
     "name": "stdout",
     "output_type": "stream",
     "text": [
      "Number of saved files: 4\n",
      "Saved files: [PosixPath('RBSP/rbspa/Processed_Mat_Files/rbspa_hope_20170701to20170731_flux_ver4.mat'), PosixPath('RBSP/rbspa/Processed_Mat_Files/rbspa_hope_20170701to20170731_xGEO_ver4.mat'), PosixPath('RBSP/rbspa/Processed_Mat_Files/rbspa_hope_20170801to20170831_flux_ver4.mat'), PosixPath('RBSP/rbspa/Processed_Mat_Files/rbspa_hope_20170801to20170831_xGEO_ver4.mat')]\n",
      "xGEO data keys: dict_keys(['__header__', '__version__', '__globals__', 'time', 'xGEO', 'metadata'])\n",
      "xGEO data metadata: dict_keys(['unit', 'original_cadence_seconds', 'source_files', 'description', 'processing_notes'])\n",
      "xGEO[0,:]: [-3.1846778  -4.3196673   0.15771057] RE\n"
     ]
    }
   ],
   "source": [
    "from scipy.io import loadmat\n",
    "from pathlib import Path\n",
    "\n",
    "saved_files = sorted(Path(\"RBSP/rbspa/Processed_Mat_Files\").glob(\"*.mat\"))\n",
    "print(\"Number of saved files:\", len(saved_files))\n",
    "print(\"Saved files:\", saved_files)\n",
    "\n",
    "xGEO_data = loadmat(saved_files[1], simplify_cells=True)\n",
    "\n",
    "print(\"xGEO data keys:\", xGEO_data.keys())\n",
    "print(\"xGEO data metadata:\", xGEO_data[\"metadata\"][\"xGEO\"].keys())\n",
    "print(\"xGEO[0,:]:\", xGEO_data[\"xGEO\"][0,:] * u.Unit(xGEO_data[\"metadata\"][\"xGEO\"][\"unit\"]))"
   ]
  }
 ],
 "metadata": {
  "kernelspec": {
   "display_name": "venv",
   "language": "python",
   "name": "python3"
  },
  "language_info": {
   "codemirror_mode": {
    "name": "ipython",
    "version": 3
   },
   "file_extension": ".py",
   "mimetype": "text/x-python",
   "name": "python",
   "nbconvert_exporter": "python",
   "pygments_lexer": "ipython3",
   "version": "3.11.2"
  }
 },
 "nbformat": 4,
 "nbformat_minor": 5
}
